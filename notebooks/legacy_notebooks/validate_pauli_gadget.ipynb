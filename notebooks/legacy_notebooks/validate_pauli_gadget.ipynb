{
 "cells": [
  {
   "cell_type": "markdown",
   "id": "8d9e759e",
   "metadata": {},
   "source": [
    "## Generate Test Circuits\n",
    "This requires quantinuum-benchmarking -> https://github.com/daniel-mills-cqc/quantinuum-benchmarking"
   ]
  },
  {
   "cell_type": "code",
   "execution_count": null,
   "id": "5c167959",
   "metadata": {},
   "outputs": [],
   "source": [
    "from quantinuum_benchmarking.circuit_generation import RandomPauliGadget\n",
    "from pytket.circuit.display import render_circuit_jupyter\n",
    "import numpy as np\n",
    "\n",
    "np.random.seed(2)\n",
    "n_circuits = 10\n",
    "seed_list = [np.random.randint(1) for i in range(n_circuits)]\n",
    "\n",
    "n_qubits = 5\n",
    "\n",
    "uncompiled_circuit_list = [\n",
    "    RandomPauliGadget(\n",
    "        n_qubits=n_qubits,\n",
    "        depth=n_qubits,\n",
    "        decompose=False,\n",
    "        seed=seed,\n",
    "    ).measure_all() for seed in seed_list\n",
    "]\n",
    "render_circuit_jupyter(uncompiled_circuit_list[0])"
   ]
  },
  {
   "cell_type": "markdown",
   "id": "a294b95f",
   "metadata": {},
   "source": [
    "## Compile Circuit and Generate its Hidden Inverse"
   ]
  },
  {
   "cell_type": "code",
   "execution_count": null,
   "id": "d1280ad3",
   "metadata": {
    "scrolled": false
   },
   "outputs": [],
   "source": [
    "from pytket.passes import SequencePass, RemoveRedundancies, DecomposeBoxes\n",
    "from pauli_gadget_pass import general_pauli_gadget_hi_pass\n",
    "from hseries_decompositions import hseries_squash, hseries_rebase\n",
    "\n",
    "hi_circuit_list = [uncompiled_circuit.copy() for uncompiled_circuit in uncompiled_circuit_list]\n",
    "custom_seq = SequencePass([\n",
    "    general_pauli_gadget_hi_pass,\n",
    "    hseries_squash,\n",
    "    RemoveRedundancies(),\n",
    "])\n",
    "for hi_circuit in hi_circuit_list:\n",
    "    custom_seq.apply(hi_circuit)\n",
    "render_circuit_jupyter(hi_circuit_list[0])"
   ]
  },
  {
   "cell_type": "code",
   "execution_count": null,
   "id": "7e9b8fb2",
   "metadata": {
    "scrolled": false
   },
   "outputs": [],
   "source": [
    "std_circuit_list = [uncompiled_circuit.copy() for uncompiled_circuit in uncompiled_circuit_list]\n",
    "custom_seq = SequencePass([\n",
    "    DecomposeBoxes(),\n",
    "    hseries_rebase,\n",
    "    hseries_squash,\n",
    "    RemoveRedundancies(),\n",
    "])\n",
    "for std_circuit in std_circuit_list:\n",
    "    custom_seq.apply(std_circuit)\n",
    "render_circuit_jupyter(std_circuit_list[0])"
   ]
  },
  {
   "cell_type": "markdown",
   "id": "8230d9c8",
   "metadata": {},
   "source": [
    "## Set up Backends"
   ]
  },
  {
   "cell_type": "code",
   "execution_count": null,
   "id": "69c96da6",
   "metadata": {},
   "outputs": [],
   "source": [
    "from pytket.extensions.myqos import Myqos, MyqosBackend\n",
    "from pytket.extensions.myqos import QuantinuumConfig, AerConfig\n",
    "\n",
    "n_shots = 10000\n",
    "\n",
    "myqos = Myqos()\n",
    "\n",
    "h1_emul_configuration = QuantinuumConfig(\n",
    "    device_name=\"H1-1E\",\n",
    "    user_group='DEFAULT',\n",
    "    simulator='state-vector',\n",
    "    noisy_simulation=True,\n",
    "    no_op=True,\n",
    ")\n",
    "h1_ideal_configuration = QuantinuumConfig(\n",
    "    device_name=\"H1-1E\",\n",
    "    user_group='DEFAULT',\n",
    "    simulator='state-vector',\n",
    "    noisy_simulation=False,\n",
    "    no_op=True,\n",
    ")\n",
    "\n",
    "experiment = myqos.get_experiment_by_name(\"test_hidden_inverse\")\n",
    "\n",
    "h1_emul_backend = MyqosBackend(h1_emul_configuration, experiment=experiment, remote=True)\n",
    "h1_ideal_backend = MyqosBackend(h1_ideal_configuration, experiment=experiment, remote=True)"
   ]
  },
  {
   "cell_type": "markdown",
   "id": "9c325aa7",
   "metadata": {},
   "source": [
    "## Run Hidden Inverse Circuit"
   ]
  },
  {
   "cell_type": "code",
   "execution_count": null,
   "id": "a38c0565",
   "metadata": {},
   "outputs": [],
   "source": [
    "result_handle_list = h1_emul_backend.process_circuits(hi_circuit_list, n_shots=n_shots)\n",
    "hi_result_list = h1_emul_backend.get_results(result_handle_list)\n",
    "hi_counts_list = [hi_result.get_counts() for hi_result in hi_result_list]\n",
    "hi_counts_list[0]"
   ]
  },
  {
   "cell_type": "markdown",
   "id": "00eeab90",
   "metadata": {},
   "source": [
    "## Run Standard Inverse Circuit"
   ]
  },
  {
   "cell_type": "code",
   "execution_count": null,
   "id": "56b76cf3",
   "metadata": {},
   "outputs": [],
   "source": [
    "result_handle_list = h1_emul_backend.process_circuits(std_circuit_list, n_shots=n_shots, no_opt=True)\n",
    "std_result_list = h1_emul_backend.get_results(result_handle_list)\n",
    "std_counts_list = [std_result.get_counts() for std_result in std_result_list]\n",
    "std_counts_list[0]"
   ]
  },
  {
   "cell_type": "markdown",
   "id": "3c1e2973",
   "metadata": {},
   "source": [
    "## Run Ideal Circuit"
   ]
  },
  {
   "cell_type": "code",
   "execution_count": null,
   "id": "beb1a8a1",
   "metadata": {},
   "outputs": [],
   "source": [
    "result_handle_list = h1_ideal_backend.process_circuits(std_circuit_list, n_shots=n_shots)\n",
    "ideal_result_list = h1_ideal_backend.get_results(result_handle_list)\n",
    "ideal_counts_list = [ideal_result.get_counts() for ideal_result in ideal_result_list]\n",
    "ideal_counts_list[0]"
   ]
  },
  {
   "cell_type": "markdown",
   "id": "c85271b7",
   "metadata": {},
   "source": [
    "## Compare Count Distributions"
   ]
  },
  {
   "cell_type": "code",
   "execution_count": null,
   "id": "6cbd43be",
   "metadata": {},
   "outputs": [],
   "source": [
    "from itertools import product\n",
    "\n",
    "def count_diff(counter_1, counter_2, n):\n",
    "    return sum(\n",
    "        abs(counter_1[i] - counter_2[i])\n",
    "        for i in product(*[[0,1] for _ in range(n)])\n",
    "    )\n",
    "\n",
    "for ideal_counts, std_counts, hi_counts in zip(ideal_counts_list, std_counts_list, hi_counts_list):\n",
    "    print('std_diff', count_diff(ideal_counts, std_counts, n_qubits))\n",
    "    print('hi_diff', count_diff(ideal_counts, hi_counts, n_qubits))\n",
    "    if count_diff(ideal_counts, std_counts, n_qubits) < count_diff(ideal_counts, hi_counts, n_qubits):\n",
    "        print(\"hidden inverse better\")"
   ]
  }
 ],
 "metadata": {
  "kernelspec": {
   "display_name": "Python 3 (ipykernel)",
   "language": "python",
   "name": "python3"
  },
  "language_info": {
   "codemirror_mode": {
    "name": "ipython",
    "version": 3
   },
   "file_extension": ".py",
   "mimetype": "text/x-python",
   "name": "python",
   "nbconvert_exporter": "python",
   "pygments_lexer": "ipython3",
   "version": "3.10.9"
  }
 },
 "nbformat": 4,
 "nbformat_minor": 5
}
