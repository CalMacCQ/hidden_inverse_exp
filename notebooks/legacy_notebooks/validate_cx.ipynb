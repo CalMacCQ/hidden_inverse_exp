{
 "cells": [
  {
   "cell_type": "markdown",
   "id": "158c419b",
   "metadata": {},
   "source": [
    "## Initialise Backends"
   ]
  },
  {
   "cell_type": "code",
   "execution_count": null,
   "id": "c534f134",
   "metadata": {},
   "outputs": [],
   "source": [
    "from pytket.extensions.myqos import Myqos, MyqosBackend\n",
    "from pytket.extensions.myqos import QuantinuumConfig, AerConfig\n",
    "\n",
    "n_shots = 10000\n",
    "\n",
    "myqos = Myqos()\n",
    "\n",
    "H1E_configuration = QuantinuumConfig(\n",
    "    device_name=\"H1-1E\",\n",
    "    user_group='DEFAULT',\n",
    "    noisy_simulation=True,\n",
    "    simulator='state-vector',\n",
    ")\n",
    "aer_configuration = AerConfig(user_group='DEFAULT')\n",
    "\n",
    "experiment = myqos.get_experiment_by_name(\"test_hidden_inverse\")\n",
    "\n",
    "h1e_backend = MyqosBackend(H1E_configuration, experiment=experiment, remote=True)\n",
    "aer_backend = MyqosBackend(aer_configuration, experiment=experiment, remote=True)"
   ]
  },
  {
   "cell_type": "markdown",
   "id": "4105d4a7",
   "metadata": {},
   "source": [
    "## Construct CZ Gate and Inverse"
   ]
  },
  {
   "cell_type": "code",
   "execution_count": null,
   "id": "626cc529",
   "metadata": {},
   "outputs": [],
   "source": [
    "from pytket import Circuit\n",
    "from pytket.circuit.display import render_circuit_jupyter\n",
    "\n",
    "CX = Circuit(2)\n",
    "CX.PhasedX(3.5, 1.5, 1)\n",
    "CX.ZZPhase(0.5, 0,1)\n",
    "CX.Rz(0.5, 0)\n",
    "CX.PhasedX(2.5, 0, 1)\n",
    "CX.Rz(3.5, 1)\n",
    "render_circuit_jupyter(CX)\n",
    "\n",
    "hi_CX = CX.copy().dagger()\n",
    "render_circuit_jupyter(hi_CX)"
   ]
  },
  {
   "cell_type": "markdown",
   "id": "0642ec12",
   "metadata": {},
   "source": [
    "## Construct CZ Sequence Circuits"
   ]
  },
  {
   "cell_type": "code",
   "execution_count": null,
   "id": "60b98da7",
   "metadata": {},
   "outputs": [],
   "source": [
    "orig_circ = Circuit(2)\n",
    "hi_circ = Circuit(2)\n",
    "\n",
    "# Apply Hadamard at the begining\n",
    "orig_circ.PhasedX(0.5, -0.5, 0)\n",
    "orig_circ.Rz(1, 0)\n",
    "orig_circ.PhasedX(0.5, -0.5, 1)\n",
    "orig_circ.Rz(1, 1)\n",
    "\n",
    "# Apply Hadamard at the begining\n",
    "hi_circ.PhasedX(0.5, -0.5, 0)\n",
    "hi_circ.Rz(1, 0)\n",
    "hi_circ.PhasedX(0.5, -0.5, 1)\n",
    "hi_circ.Rz(1, 1)\n",
    "\n",
    "n_pairs = 20\n",
    "for _ in range(n_pairs):\n",
    "    orig_circ.add_barrier([0,1])\n",
    "    orig_circ.append(CX)\n",
    "    orig_circ.add_barrier([0,1])\n",
    "    orig_circ.append(CX)\n",
    "    orig_circ.add_barrier([0,1])\n",
    "    \n",
    "    hi_circ.add_barrier([0,1])\n",
    "    hi_circ.append(CX)\n",
    "    hi_circ.add_barrier([0,1])\n",
    "    hi_circ.append(hi_CX)\n",
    "    hi_circ.add_barrier([0,1])\n",
    "\n",
    "# Apply Hadamards at end and measure\n",
    "orig_circ.PhasedX(0.5, -0.5, 0)\n",
    "orig_circ.Rz(1, 0)\n",
    "orig_circ.PhasedX(0.5, -0.5, 1)\n",
    "orig_circ.Rz(1, 1)\n",
    "orig_circ.measure_all()\n",
    "\n",
    "# Apply Hadamards at end and measure\n",
    "hi_circ.PhasedX(0.5, -0.5, 0)\n",
    "hi_circ.Rz(1, 0)\n",
    "hi_circ.PhasedX(0.5, -0.5, 1)\n",
    "hi_circ.Rz(1, 1)\n",
    "hi_circ.measure_all()\n",
    "\n",
    "render_circuit_jupyter(orig_circ)\n",
    "render_circuit_jupyter(hi_circ)"
   ]
  },
  {
   "cell_type": "markdown",
   "id": "1e1a6cbf",
   "metadata": {},
   "source": [
    "## Run and Compare Counts"
   ]
  },
  {
   "cell_type": "code",
   "execution_count": null,
   "id": "76666601",
   "metadata": {},
   "outputs": [],
   "source": [
    "result_handle = h1e_backend.process_circuit(orig_circ, n_shots=n_shots)\n",
    "hi_result = h1e_backend.get_result(result_handle)\n",
    "hi_counts = hi_result.get_counts()\n",
    "hi_counts"
   ]
  },
  {
   "cell_type": "code",
   "execution_count": null,
   "id": "1ac29ab6",
   "metadata": {},
   "outputs": [],
   "source": [
    "result_handle = h1e_backend.process_circuit(hi_circ, n_shots=n_shots)\n",
    "hi_result = h1e_backend.get_result(result_handle)\n",
    "hi_counts = hi_result.get_counts()\n",
    "hi_counts"
   ]
  }
 ],
 "metadata": {
  "kernelspec": {
   "display_name": "Python 3 (ipykernel)",
   "language": "python",
   "name": "python3"
  },
  "language_info": {
   "codemirror_mode": {
    "name": "ipython",
    "version": 3
   },
   "file_extension": ".py",
   "mimetype": "text/x-python",
   "name": "python",
   "nbconvert_exporter": "python",
   "pygments_lexer": "ipython3",
   "version": "3.10.9"
  }
 },
 "nbformat": 4,
 "nbformat_minor": 5
}
